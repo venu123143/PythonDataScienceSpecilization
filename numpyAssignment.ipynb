{
 "cells": [
  {
   "cell_type": "markdown",
   "id": "ea4e3767",
   "metadata": {},
   "source": [
    "# # Assignment 5\n",
    "    V.VENU GOPAL REDDY\n",
    "    Referral Code: DIRSS2115"
   ]
  },
  {
   "cell_type": "markdown",
   "id": "bdbeda14",
   "metadata": {},
   "source": [
    "### Q1.numpy stands for.?\n",
    "    A)numpy stands for numerical python"
   ]
  },
  {
   "cell_type": "markdown",
   "id": "6fa233d9",
   "metadata": {},
   "source": [
    "### Q2.The most important object defined in Numpy is an N-dimensional array type called?\n",
    "    A)ndarray"
   ]
  },
  {
   "cell_type": "markdown",
   "id": "5af23424",
   "metadata": {},
   "source": [
    "### Q3.what is the output of the following code.?\n"
   ]
  },
  {
   "cell_type": "code",
   "execution_count": 59,
   "id": "a1b436ba",
   "metadata": {},
   "outputs": [
    {
     "name": "stdout",
     "output_type": "stream",
     "text": [
      "[1.+0.j 2.+0.j 3.+0.j]\n"
     ]
    }
   ],
   "source": [
    "import numpy as np\n",
    "a = np.array([1, 2, 3], dtype =complex)\n",
    "print(a)"
   ]
  },
  {
   "cell_type": "code",
   "execution_count": 60,
   "id": "3ca23ecf",
   "metadata": {},
   "outputs": [
    {
     "name": "stdout",
     "output_type": "stream",
     "text": [
      "[1 2 3]\n"
     ]
    }
   ],
   "source": [
    "a = np.array([1,2,3])\n",
    "print (a)"
   ]
  },
  {
   "cell_type": "code",
   "execution_count": 61,
   "id": "4419ad0c",
   "metadata": {},
   "outputs": [
    {
     "name": "stdout",
     "output_type": "stream",
     "text": [
      "[1. 2. 3.]\n"
     ]
    }
   ],
   "source": [
    "a = np.array([1, 2, 3], dtype =\"float\")\n",
    "print (a)"
   ]
  },
  {
   "cell_type": "code",
   "execution_count": 62,
   "id": "c799d3ad",
   "metadata": {},
   "outputs": [
    {
     "name": "stdout",
     "output_type": "stream",
     "text": [
      "int32\n"
     ]
    }
   ],
   "source": [
    "a = np.dtype('i4')\n",
    "print (a)"
   ]
  },
  {
   "cell_type": "code",
   "execution_count": 63,
   "id": "2f2b20b4",
   "metadata": {},
   "outputs": [
    {
     "name": "stdout",
     "output_type": "stream",
     "text": [
      "[[1 2 3 4 5]]\n"
     ]
    }
   ],
   "source": [
    "a = np.array([1, 2, 3,4,5], ndmin= 2)\n",
    "print(a)"
   ]
  },
  {
   "cell_type": "code",
   "execution_count": 64,
   "id": "136c083c",
   "metadata": {},
   "outputs": [
    {
     "name": "stdout",
     "output_type": "stream",
     "text": [
      "[10 20 30]\n"
     ]
    }
   ],
   "source": [
    "dt = np.dtype([('age',np.int8)])\n",
    "a = np.array([(10,),(20,),(30,)],\n",
    "dtype = dt)\n",
    "print( a['age'])"
   ]
  },
  {
   "cell_type": "code",
   "execution_count": 65,
   "id": "7189b4a4",
   "metadata": {},
   "outputs": [
    {
     "name": "stdout",
     "output_type": "stream",
     "text": [
      "21\n"
     ]
    }
   ],
   "source": [
    "a = np.array([1,2,3,5,8])\n",
    "b = np.array([0,3,4,2,1])\n",
    "c = a + b\n",
    "c = c*a\n",
    "print (c[2])"
   ]
  },
  {
   "cell_type": "code",
   "execution_count": 66,
   "id": "e21ae609",
   "metadata": {},
   "outputs": [
    {
     "name": "stdout",
     "output_type": "stream",
     "text": [
      "3\n"
     ]
    }
   ],
   "source": [
    "a = np.array([1,2,3,5,8])\n",
    "a = a + 1\n",
    "print (a[1])"
   ]
  },
  {
   "cell_type": "code",
   "execution_count": 67,
   "id": "47bec117",
   "metadata": {},
   "outputs": [
    {
     "name": "stdout",
     "output_type": "stream",
     "text": [
      "6\n"
     ]
    }
   ],
   "source": [
    "a = np.array([[1,2,3],[0,1,4]])\n",
    "print (a.size)"
   ]
  },
  {
   "cell_type": "code",
   "execution_count": 68,
   "id": "9e914761",
   "metadata": {},
   "outputs": [
    {
     "name": "stdout",
     "output_type": "stream",
     "text": [
      "1\n",
      "(5,)\n",
      "(5,)\n",
      "\n"
     ]
    }
   ],
   "source": [
    "a = np.array([1,2,3,5,8])\n",
    "print (a.ndim)\n",
    "print (a.shape)\n",
    "print (a.shape)\n",
    "print()"
   ]
  },
  {
   "cell_type": "code",
   "execution_count": 69,
   "id": "763f5f5f",
   "metadata": {},
   "outputs": [
    {
     "data": {
      "text/plain": [
       "array([[2, 3, 4],\n",
       "       [1, 2, 5]])"
      ]
     },
     "execution_count": 69,
     "metadata": {},
     "output_type": "execute_result"
    }
   ],
   "source": [
    "a = np.array([[1,2,3],[0,1,4]])\n",
    "b = np.zeros((2,3), dtype=np.int16)\n",
    "c = np.ones((2,3), dtype=np.int16)\n",
    "d = a + b + c\n",
    "d"
   ]
  },
  {
   "cell_type": "code",
   "execution_count": 70,
   "id": "f47eb127",
   "metadata": {},
   "outputs": [
    {
     "name": "stdout",
     "output_type": "stream",
     "text": [
      "5\n",
      "6\n",
      "[[0 0 0]\n",
      " [0 0 0]]\n"
     ]
    }
   ],
   "source": [
    "print (d[1,2])\n",
    "print (d.size)\n",
    "print (b)"
   ]
  },
  {
   "cell_type": "markdown",
   "id": "db90a3dd",
   "metadata": {},
   "source": [
    "### Q4.You have a matrix defined as below:\n",
    "    A = np.array([[6, 1, 1],\n",
    "                [4, -2, 5],\n",
    "                [2, 8, 7]])\n",
    "      Find its -trace, rank, determinant, \n",
    "      inverse, transpose."
   ]
  },
  {
   "cell_type": "code",
   "execution_count": 78,
   "id": "1b9ac1cd",
   "metadata": {},
   "outputs": [
    {
     "data": {
      "text/plain": [
       "array([[ 6,  1,  1],\n",
       "       [ 4, -2,  5],\n",
       "       [ 2,  8,  7]])"
      ]
     },
     "execution_count": 78,
     "metadata": {},
     "output_type": "execute_result"
    }
   ],
   "source": [
    "A = np.array([[6, 1, 1],[4, -2, 5],[2, 8, 7]])\n",
    "A"
   ]
  },
  {
   "cell_type": "markdown",
   "id": "bf2fd962",
   "metadata": {},
   "source": [
    "### Trace\n",
    "The trace is the sum of diagonal elements in a square matrix. There are two methods to calculate the trace. We can simply use the trace() method of an ndarray object or get the diagonal elements first and then get the sum"
   ]
  },
  {
   "cell_type": "code",
   "execution_count": 72,
   "id": "bc02add0",
   "metadata": {},
   "outputs": [
    {
     "name": "stdout",
     "output_type": "stream",
     "text": [
      "Trace:  11\n",
      "Trace  11\n"
     ]
    }
   ],
   "source": [
    "print('Trace: ',A.trace())\n",
    "print('Trace ',sum(A.diagonal()))"
   ]
  },
  {
   "cell_type": "markdown",
   "id": "9670b4ac",
   "metadata": {},
   "source": [
    "### Rank\n",
    "The rank of a matrix is the dimensions of the vector space spanned (generated) by its columns or rows. In other words, it can be defined as the maximum number of linearly independent column vectors or row vectors."
   ]
  },
  {
   "cell_type": "code",
   "execution_count": 73,
   "id": "0422dcd5",
   "metadata": {},
   "outputs": [
    {
     "data": {
      "text/plain": [
       "3"
      ]
     },
     "execution_count": 73,
     "metadata": {},
     "output_type": "execute_result"
    }
   ],
   "source": [
    "rank = np.linalg.matrix_rank(A)  #linalg ==  Linear Algebra\n",
    "rank "
   ]
  },
  {
   "cell_type": "markdown",
   "id": "a498a468",
   "metadata": {},
   "source": [
    "### Determinant\n",
    "The determinant of a square matrix can be calculated det() function which also comes from the numpy linalg package. If the determinant is 0, that matrix is not invertible. It is known as a singular matrix in algebra terms."
   ]
  },
  {
   "cell_type": "code",
   "execution_count": 85,
   "id": "b71ca09b",
   "metadata": {},
   "outputs": [],
   "source": [
    "det=np.linalg.det(A)\n",
    "\n"
   ]
  },
  {
   "cell_type": "markdown",
   "id": "7f42df11",
   "metadata": {},
   "source": [
    "### Inverse\n",
    "The true inverse of a square matrix can be found using the inv() function of the numpy linalg package. If the determinant of a square matrix is not 0, it has a true inverse."
   ]
  },
  {
   "cell_type": "code",
   "execution_count": 94,
   "id": "053cdfd1",
   "metadata": {},
   "outputs": [
    {
     "data": {
      "text/plain": [
       "array([[ 0.17647059, -0.00326797, -0.02287582],\n",
       "       [ 0.05882353, -0.13071895,  0.08496732],\n",
       "       [-0.11764706,  0.1503268 ,  0.05228758]])"
      ]
     },
     "execution_count": 94,
     "metadata": {},
     "output_type": "execute_result"
    }
   ],
   "source": [
    "inv = np.linalg.inv(A)\n",
    "inv"
   ]
  },
  {
   "cell_type": "markdown",
   "id": "81b07e7b",
   "metadata": {},
   "source": [
    "### Eigenvalues and Eigenvectors\n",
    "    The sum of eigenvalues (1+5+1=7) is equal to the trace (2+3+2=7) of the same matrix! The product of the eigenvalues (1x5x1=5) is equal to the determinant (5) of the same matrix!"
   ]
  },
  {
   "cell_type": "code",
   "execution_count": 89,
   "id": "08888f7d",
   "metadata": {},
   "outputs": [
    {
     "data": {
      "text/plain": [
       "(array([11.24862343,  5.09285054, -5.34147398]),\n",
       " array([[ 0.24511338,  0.75669314,  0.02645665],\n",
       "        [ 0.40622202, -0.03352363, -0.84078293],\n",
       "        [ 0.88028581, -0.65291014,  0.54072554]]))"
      ]
     },
     "execution_count": 89,
     "metadata": {},
     "output_type": "execute_result"
    }
   ],
   "source": [
    "w, v = np.linalg.eig(A)\n",
    "w,v"
   ]
  },
  {
   "cell_type": "markdown",
   "id": "04c9932c",
   "metadata": {},
   "source": [
    "### Transpose\n",
    "    Transpose can be determined using 2 ways. Both ways are showed below."
   ]
  },
  {
   "cell_type": "code",
   "execution_count": 90,
   "id": "fdf3758a",
   "metadata": {},
   "outputs": [
    {
     "name": "stdout",
     "output_type": "stream",
     "text": [
      "Transpose [[ 6  4  2]\n",
      " [ 1 -2  8]\n",
      " [ 1  5  7]]\n",
      "Transpose [[ 6  4  2]\n",
      " [ 1 -2  8]\n",
      " [ 1  5  7]]\n"
     ]
    }
   ],
   "source": [
    "print('Transpose',A.T)\n",
    "print('Transpose',A.transpose())"
   ]
  },
  {
   "cell_type": "markdown",
   "id": "9fc63f1b",
   "metadata": {},
   "source": [
    "### Q5.\n",
    "\n",
    "    list1 = [1, 2, 3, 4 ,5, 6]\n",
    "    list2 = [10, 9, 8, 7, 6, 5]"
   ]
  },
  {
   "cell_type": "code",
   "execution_count": 113,
   "id": "4c8fe9c6",
   "metadata": {},
   "outputs": [],
   "source": [
    "list1 = [1, 2, 3, 4 ,5, 6]\n",
    "list2 = [10, 9, 8, 7, 6, 5]\n",
    "list3=list1+list2"
   ]
  },
  {
   "cell_type": "code",
   "execution_count": 114,
   "id": "20585bfd",
   "metadata": {},
   "outputs": [
    {
     "data": {
      "text/plain": [
       "[1, 2, 3, 4, 5, 6, 10, 9, 8, 7, 6, 5]"
      ]
     },
     "execution_count": 114,
     "metadata": {},
     "output_type": "execute_result"
    }
   ],
   "source": [
    "list3"
   ]
  },
  {
   "cell_type": "markdown",
   "id": "731530d2",
   "metadata": {},
   "source": [
    "### Q6.Type these lines of code and check.?\n",
    "    the output for each of them."
   ]
  },
  {
   "cell_type": "code",
   "execution_count": 35,
   "id": "33093053",
   "metadata": {},
   "outputs": [],
   "source": [
    "list1 = [1, 2, 3, 4 ,5, 6]\n",
    "list2 = [10, 9, 8, 7, 6, 5]"
   ]
  },
  {
   "cell_type": "code",
   "execution_count": 36,
   "id": "577f9d12",
   "metadata": {},
   "outputs": [],
   "source": [
    "a=np.array([list1])\n",
    "b=np.array([list2])"
   ]
  },
  {
   "cell_type": "code",
   "execution_count": 37,
   "id": "aed35949",
   "metadata": {},
   "outputs": [
    {
     "data": {
      "text/plain": [
       "array([[10, 18, 24, 28, 30, 30]])"
      ]
     },
     "execution_count": 37,
     "metadata": {},
     "output_type": "execute_result"
    }
   ],
   "source": [
    "a*b"
   ]
  },
  {
   "cell_type": "code",
   "execution_count": 38,
   "id": "846a7545",
   "metadata": {},
   "outputs": [
    {
     "data": {
      "text/plain": [
       "array([[11, 11, 11,  3,  3,  3]], dtype=int32)"
      ]
     },
     "execution_count": 38,
     "metadata": {},
     "output_type": "execute_result"
    }
   ],
   "source": [
    "a^b"
   ]
  },
  {
   "cell_type": "code",
   "execution_count": 39,
   "id": "9c3020e0",
   "metadata": {},
   "outputs": [
    {
     "data": {
      "text/plain": [
       "array([[-9, -7, -5, -3, -1,  1]])"
      ]
     },
     "execution_count": 39,
     "metadata": {},
     "output_type": "execute_result"
    }
   ],
   "source": [
    "a-b"
   ]
  },
  {
   "cell_type": "code",
   "execution_count": 40,
   "id": "3f01b4f1",
   "metadata": {},
   "outputs": [
    {
     "data": {
      "text/plain": [
       "array([[11, 11, 11, 11, 11, 11]])"
      ]
     },
     "execution_count": 40,
     "metadata": {},
     "output_type": "execute_result"
    }
   ],
   "source": [
    "a+b"
   ]
  },
  {
   "cell_type": "code",
   "execution_count": 41,
   "id": "ac758ff3",
   "metadata": {},
   "outputs": [
    {
     "data": {
      "text/plain": [
       "array([[0.1       , 0.22222222, 0.375     , 0.57142857, 0.83333333,\n",
       "        1.2       ]])"
      ]
     },
     "execution_count": 41,
     "metadata": {},
     "output_type": "execute_result"
    }
   ],
   "source": [
    "a/b"
   ]
  },
  {
   "cell_type": "code",
   "execution_count": 42,
   "id": "06498da2",
   "metadata": {},
   "outputs": [
    {
     "data": {
      "text/plain": [
       "array([[0, 0, 0, 0, 0, 1]], dtype=int32)"
      ]
     },
     "execution_count": 42,
     "metadata": {},
     "output_type": "execute_result"
    }
   ],
   "source": [
    "a//b"
   ]
  },
  {
   "cell_type": "code",
   "execution_count": null,
   "id": "b96da415",
   "metadata": {},
   "outputs": [],
   "source": []
  },
  {
   "cell_type": "code",
   "execution_count": null,
   "id": "6a30b573",
   "metadata": {},
   "outputs": [],
   "source": []
  },
  {
   "cell_type": "code",
   "execution_count": null,
   "id": "108c8ca3",
   "metadata": {},
   "outputs": [],
   "source": []
  },
  {
   "cell_type": "code",
   "execution_count": null,
   "id": "926d149a",
   "metadata": {},
   "outputs": [],
   "source": []
  }
 ],
 "metadata": {
  "kernelspec": {
   "display_name": "Python 3 (ipykernel)",
   "language": "python",
   "name": "python3"
  },
  "language_info": {
   "codemirror_mode": {
    "name": "ipython",
    "version": 3
   },
   "file_extension": ".py",
   "mimetype": "text/x-python",
   "name": "python",
   "nbconvert_exporter": "python",
   "pygments_lexer": "ipython3",
   "version": "3.9.7"
  }
 },
 "nbformat": 4,
 "nbformat_minor": 5
}
