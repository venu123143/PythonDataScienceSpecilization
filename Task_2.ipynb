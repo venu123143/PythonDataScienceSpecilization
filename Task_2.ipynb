{
 "cells": [
  {
   "cell_type": "markdown",
   "metadata": {},
   "source": [
    "# Assignment 2\n",
    "    V.VENU GOPAL REDDY\n",
    "    REFERRAL CODE: DIRSS2115"
   ]
  },
  {
   "cell_type": "markdown",
   "metadata": {},
   "source": [
    "# Q1\n",
    "     print ascii values of my name"
   ]
  },
  {
   "cell_type": "code",
   "execution_count": 25,
   "metadata": {},
   "outputs": [
    {
     "name": "stdout",
     "output_type": "stream",
     "text": [
      "ASCII values for small letter  v 118\n",
      "ASCII values for small letter  e 101\n",
      "ASCII values for small letter  n 110\n",
      "ASCII values for small letter  u 117\n",
      "ASCII values for small letter    32\n",
      "ASCII values for small letter  g 103\n",
      "ASCII values for small letter  o 111\n",
      "ASCII values for small letter  p 112\n",
      "ASCII values for small letter  a 97\n",
      "ASCII values for small letter  l 108\n",
      "ASCII values for small letter    32\n",
      "ASCII values for small letter  r 114\n",
      "ASCII values for small letter  e 101\n",
      "ASCII values for small letter  d 100\n",
      "ASCII values for small letter  d 100\n",
      "ASCII values for small letter  y 121\n"
     ]
    }
   ],
   "source": [
    "a='venu gopal reddy'\n",
    "for i in a:\n",
    "    print('ASCII values for small letter ',i,ord(i))"
   ]
  },
  {
   "cell_type": "code",
   "execution_count": 22,
   "metadata": {},
   "outputs": [
    {
     "name": "stdout",
     "output_type": "stream",
     "text": [
      "ASCII values are  V 86\n",
      "ASCII values are  E 69\n",
      "ASCII values are  N 78\n",
      "ASCII values are  U 85\n",
      "ASCII values are    32\n",
      "ASCII values are  G 71\n",
      "ASCII values are  O 79\n",
      "ASCII values are  P 80\n",
      "ASCII values are  A 65\n",
      "ASCII values are  L 76\n",
      "ASCII values are    32\n",
      "ASCII values are  R 82\n",
      "ASCII values are  E 69\n",
      "ASCII values are  D 68\n",
      "ASCII values are  D 68\n",
      "ASCII values are  Y 89\n"
     ]
    }
   ],
   "source": [
    "a='VENU GOPAL REDDY'\n",
    "for i in a:\n",
    "    print('ASCII values are ',i,ord(i))"
   ]
  },
  {
   "cell_type": "markdown",
   "metadata": {},
   "source": [
    "# Q2\n",
    "    FIND THE ASCII VALUES OF NAME \"iND@IA\""
   ]
  },
  {
   "cell_type": "code",
   "execution_count": 13,
   "metadata": {},
   "outputs": [
    {
     "name": "stdout",
     "output_type": "stream",
     "text": [
      "ASCII value of i 105\n",
      "ASCII value of N 78\n",
      "ASCII value of D 68\n",
      "ASCII value of @ 64\n",
      "ASCII value of I 73\n",
      "ASCII value of A 65\n"
     ]
    }
   ],
   "source": [
    "B=\"iND@IA\"\n",
    "for i in B:    \n",
    "    print('ASCII value of',i,ord(i))"
   ]
  },
  {
   "cell_type": "markdown",
   "metadata": {},
   "source": [
    "# Q3\n",
    "    name of ASCII using number"
   ]
  },
  {
   "cell_type": "code",
   "execution_count": 19,
   "metadata": {},
   "outputs": [
    {
     "name": "stdout",
     "output_type": "stream",
     "text": [
      "charater for the ASCII value is P\n",
      "charater for the ASCII value is \\\n",
      "charater for the ASCII value is c\n",
      "charater for the ASCII value is j\n",
      "charater for the ASCII value is t\n"
     ]
    }
   ],
   "source": [
    "print('charater for the ASCII value is',chr(80))\n",
    "print('charater for the ASCII value is',chr(92))\n",
    "print('charater for the ASCII value is',chr(99))\n",
    "print('charater for the ASCII value is',chr(106))\n",
    "print('charater for the ASCII value is',chr(116))"
   ]
  },
  {
   "cell_type": "code",
   "execution_count": null,
   "metadata": {},
   "outputs": [],
   "source": []
  }
 ],
 "metadata": {
  "kernelspec": {
   "display_name": "Python 3",
   "language": "python",
   "name": "python3"
  },
  "language_info": {
   "codemirror_mode": {
    "name": "ipython",
    "version": 3
   },
   "file_extension": ".py",
   "mimetype": "text/x-python",
   "name": "python",
   "nbconvert_exporter": "python",
   "pygments_lexer": "ipython3",
   "version": "3.8.3"
  }
 },
 "nbformat": 4,
 "nbformat_minor": 4
}
